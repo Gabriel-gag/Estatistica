{
 "cells": [
  {
   "cell_type": "markdown",
   "id": "37751a03",
   "metadata": {},
   "source": [
    "#Trabalho de Probabilidade T1 Classificador Bayesiano Simples"
   ]
  },
  {
   "cell_type": "markdown",
   "id": "afc1e41e",
   "metadata": {},
   "source": [
    " Importa a bilbioteca pandas, lê o arquivo .CSV da nome as colunas dele , após isso limpa os dados e faz uma verificação via impressão dos dados\n",
    " "
   ]
  },
  {
   "cell_type": "code",
   "execution_count": 15,
   "id": "9ea072a7",
   "metadata": {},
   "outputs": [
    {
     "name": "stdout",
     "output_type": "stream",
     "text": [
      "<class 'pandas.core.frame.DataFrame'>\n",
      "RangeIndex: 32560 entries, 0 to 32559\n",
      "Data columns (total 15 columns):\n",
      " #   Column              Non-Null Count  Dtype \n",
      "---  ------              --------------  ----- \n",
      " 0   idade               32560 non-null  int64 \n",
      " 1   classe-de-trabalho  32560 non-null  object\n",
      " 2   peso-final          32560 non-null  int64 \n",
      " 3   educação            32560 non-null  object\n",
      " 4   anos-de-educação    32560 non-null  int64 \n",
      " 5   estado-civil        32560 non-null  object\n",
      " 6   ocupação            32560 non-null  object\n",
      " 7   relacionamento      32560 non-null  object\n",
      " 8   raça                32560 non-null  object\n",
      " 9   sexo                32560 non-null  object\n",
      " 10  ganho-de-capital    32560 non-null  int64 \n",
      " 11  perda-de-capital    32560 non-null  int64 \n",
      " 12  horas-por-semana    32560 non-null  int64 \n",
      " 13  país-de-origem      32560 non-null  object\n",
      " 14  renda               32560 non-null  object\n",
      "dtypes: int64(6), object(9)\n",
      "memory usage: 3.7+ MB\n"
     ]
    }
   ],
   "source": [
    "import pandas as pd\n",
    "\n",
    "df = pd.read_csv(\"http://archive.ics.uci.edu/ml/machine-learning-databases/adult/adult.data\")\n",
    "\n",
    "df.columns = [\"idade\", \"classe-de-trabalho\", \"peso-final\", \"educação\",\n",
    "              \"anos-de-educação\", \"estado-civil\", \"ocupação\",\n",
    "              \"relacionamento\", \"raça\", \"sexo\", \"ganho-de-capital\",\n",
    "              \"perda-de-capital\", \"horas-por-semana\", \"país-de-origem\",\n",
    "              \"renda\"]\n",
    "\n",
    "\n",
    "for col in df.columns:\n",
    "    if df[col].dtype == object:\n",
    "        df[col] = df[col].str.strip()\n",
    "        \n",
    "df.info()"
   ]
  },
  {
   "cell_type": "markdown",
   "id": "8d8208a9",
   "metadata": {},
   "source": [
    "Calcula tamanho total do DataFrame"
   ]
  },
  {
   "cell_type": "code",
   "execution_count": 16,
   "id": "d11eb261",
   "metadata": {},
   "outputs": [
    {
     "name": "stdout",
     "output_type": "stream",
     "text": [
      "32560\n"
     ]
    }
   ],
   "source": [
    "EspacoAmostral = len(df)\n",
    "print(EspacoAmostral)"
   ]
  },
  {
   "cell_type": "markdown",
   "id": "aa3fe415",
   "metadata": {},
   "source": [
    "#TREINAMENTO\n",
    "Divide o dataframe em 80/20, usando uma seed para salvar os casos aleatórios"
   ]
  },
  {
   "cell_type": "code",
   "execution_count": 17,
   "id": "f0a01aa4",
   "metadata": {},
   "outputs": [],
   "source": [
    "from sklearn.model_selection import train_test_split\n",
    "\n",
    "seed = 8\n",
    "test_size = 0.2\n",
    "df_train, df_test = train_test_split(df, test_size=test_size, random_state=seed)\n"
   ]
  },
  {
   "cell_type": "markdown",
   "id": "5823cab0",
   "metadata": {},
   "source": [
    "##Explicação das funções\n",
    "\n",
    "**__init__**(self): Inicializa os atributos priori e condicionais, que armazenam as probabilidades a priori e condicionais de cada classe, respectivamente.\n",
    "\n",
    "**calcular_priori**(self, y): Calcula as probabilidades a priori de cada classe com base nos rótulos de classe fornecidos, contando o número de ocorrências de cada classe e calculando a proporção em relação ao número total de exemplos.\n",
    "\n",
    "**calcular_cond**(self, X, y): Calcula as probabilidades condicionais das características para cada classe, iterando sobre as características do conjunto de dados de treinamento, contando o número de ocorrências de cada valor de característica para cada classe e calculando a proporção em relação ao número total de exemplos dessa classe.\n",
    "\n",
    "**prever**(self, X): Realiza a previsão da classe para cada exemplo no conjunto de dados de teste, calculando as probabilidades de pertencer a cada classe com base nas probabilidades a priori e condicionais, e selecionando a classe com a maior probabilidade como a previsão para cada exemplo."
   ]
  },
  {
   "cell_type": "code",
   "execution_count": 18,
   "id": "c73a2242",
   "metadata": {},
   "outputs": [],
   "source": [
    "from sklearn.metrics import accuracy_score\n",
    "from sklearn.naive_bayes import GaussianNB\n",
    "import numpy as np\n",
    "class ClassificadorBayesianoSimples:\n",
    "    def __init__(self):\n",
    "        self.priori = {}  # Probabilidades a priori de cada classe\n",
    "        self.condicionais = {}  # Probabilidades condicionais das características para cada classe\n",
    "    \n",
    "    def calcular_priori(self, y):\n",
    "        classes, contagens = np.unique(y, return_counts=True)\n",
    "        total_exemplos = len(y)\n",
    "        for classe, contagem in zip(classes, contagens):\n",
    "            self.priori[classe] = contagem / total_exemplos\n",
    "    \n",
    "    def calcular_cond(self, X, y):\n",
    "        for classe in self.priori:\n",
    "            exemplos_classe = X[y == classe]\n",
    "            self.condicionais[classe] = {}\n",
    "            for caracteristica in range(X.shape[1]):\n",
    "                valores, contagens = np.unique(exemplos_classe[:, caracteristica], return_counts=True)\n",
    "                total_exemplos_classe = len(exemplos_classe)\n",
    "                self.condicionais[classe][caracteristica] = dict(zip(valores, contagens / total_exemplos_classe))\n",
    "    \n",
    "    def prever(self, X):\n",
    "        previsoes = []\n",
    "        for exemplo in X:\n",
    "            probabilidades = {}\n",
    "            for classe in self.priori:\n",
    "                probabilidade = np.log(self.priori[classe])\n",
    "                for caracteristica, valor in enumerate(exemplo):\n",
    "                    if valor in self.condicionais[classe][caracteristica]:\n",
    "                        probabilidade += np.log(self.condicionais[classe][caracteristica][valor])\n",
    "                probabilidades[classe] = probabilidade\n",
    "            previsoes.append(max(probabilidades, key=probabilidades.get))\n",
    "        return previsoes"
   ]
  },
  {
   "cell_type": "markdown",
   "id": "f9deb09c",
   "metadata": {},
   "source": [
    "Retira o coluna \"renda\" e converte em matriz(usando numpy).\n",
    "Depois cria o modelo e calcula as probabilidades a priori das classes com base nos rotulos do conjunto da base de treino. Após isso são realizados os calculos no dataframe teste. Como ultimo passo usamos a função importada da sklearn para calcular a acuracia do modelo, que com base na seed deve ser próximo dos 63%. Lembrando que o valor deve mudar quando alteramos a seed."
   ]
  },
  {
   "cell_type": "code",
   "execution_count": 19,
   "id": "fe43d927",
   "metadata": {},
   "outputs": [
    {
     "name": "stdout",
     "output_type": "stream",
     "text": [
      "Acurácia do modelo: 62.92997542997543\n"
     ]
    }
   ],
   "source": [
    "# Preparar dados para treinamento e teste\n",
    "X_train = df_train.drop(\"renda\", axis=1).values\n",
    "y_train = df_train[\"renda\"].values\n",
    "\n",
    "X_test = df_test.drop(\"renda\", axis=1).values\n",
    "y_test = df_test[\"renda\"].values\n",
    "\n",
    "# Treinar modelo bayesiano simples\n",
    "modelo = ClassificadorBayesianoSimples()\n",
    "modelo.calcular_priori(y_train)\n",
    "modelo.calcular_cond(X_train, y_train)\n",
    "\n",
    "# Fazer previsões no conjunto de teste\n",
    "previsoes = modelo.prever(X_test)\n",
    "\n",
    "# Calcular acurácia do modelo\n",
    "acuracia = accuracy_score(y_test, previsoes)\n",
    "print(\"Acurácia do modelo:\", acuracia*100)"
   ]
  },
  {
   "cell_type": "markdown",
   "id": "7859ce95",
   "metadata": {},
   "source": [
    "A acurácia calculada foi de 62.92997542997543\n",
    "#END\n"
   ]
  }
 ],
 "metadata": {
  "kernelspec": {
   "display_name": "Python 3 (ipykernel)",
   "language": "python",
   "name": "python3"
  },
  "language_info": {
   "codemirror_mode": {
    "name": "ipython",
    "version": 3
   },
   "file_extension": ".py",
   "mimetype": "text/x-python",
   "name": "python",
   "nbconvert_exporter": "python",
   "pygments_lexer": "ipython3",
   "version": "3.12.2"
  }
 },
 "nbformat": 4,
 "nbformat_minor": 5
}
